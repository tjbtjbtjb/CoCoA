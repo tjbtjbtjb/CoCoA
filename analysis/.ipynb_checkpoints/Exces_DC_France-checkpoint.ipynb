{
 "cells": [
  {
   "cell_type": "markdown",
   "metadata": {},
   "source": [
    "# Excès de décès en France : cas de la canicule 2003 et de la Covid19 2020"
   ]
  },
  {
   "cell_type": "code",
   "execution_count": null,
   "metadata": {},
   "outputs": [],
   "source": [
    "import pandas as pd\n",
    "import requests\n",
    "import datetime\n",
    "from bs4 import BeautifulSoup\n",
    "import json\n",
    "import math"
   ]
  },
  {
   "cell_type": "markdown",
   "metadata": {},
   "source": [
    "Le fichier est fourni au format txt\n",
    "\n",
    "Nom et Prénom - Longueur : 80 - Position : 1-80 - Type : Alphanumérique\n",
    "La forme générale est NOM*PRENOMS\n",
    "\n",
    "Sexe - Longueur : 1 - Position : 81 - Type : Numérique\n",
    "1 = Masculin; 2 = féminin\n",
    "\n",
    "Date de naissance - Longueur : 8 - Position : 82-89 - Type : Numérique\n",
    "Forme : AAAAMMJJ - AAAA=0000 si année inconnue; MM=00 si mois inconnu; JJ=00 si jour inconnu\n",
    "\n",
    "Code du lieu de naissance - Longueur : 5 - Position : 90-94 - Type : Alphanumérique\n",
    "Code Officiel Géographique en vigueur au moment de la prise en compte du décès\n",
    "\n",
    "Commune de naissance en clair - Longueur : 30 - Position : 95-124 - Type : Alphanumérique\n",
    "\n",
    "DOM/TOM/COM/Pays de naissance en clair - Longueur : 30 - Position : 125-154 - Type : Alphanumérique\n",
    "\n",
    "Date de décès - Longueur : 8 - Position : 155-162 - Type : Numérique\n",
    "Forme : AAAAMMJJ - AAAA=0000 si année inconnue; MM=00 si mois inconnu; JJ=00 si jour inconnu\n",
    "\n",
    "Code du lieu de décès - Longueur : 5 - Position : 163-167 - Type : Alphanumérique\n",
    "Code Officiel Géographique en vigueur au moment de la prise en compte du décès\n",
    "\n",
    "Numéro d'acte de décès - Longueur : 9 - Position : 168-176 - Type : Alphanumérique"
   ]
  },
  {
   "cell_type": "code",
   "execution_count": null,
   "metadata": {},
   "outputs": [],
   "source": [
    "url = \"https://www.data.gouv.fr/fr/datasets/fichier-des-personnes-decedees/\"\n",
    "soup = BeautifulSoup(requests.get(url).content)\n",
    "ld_json=soup.find('script', {'type':'application/ld+json'}).contents\n",
    "data=json.loads(ld_json[0])\n",
    "deces_url={}\n",
    "for d in data['distribution']:\n",
    "    deces_url.update({d['name']:d['url']})\n",
    "deces_url"
   ]
  },
  {
   "cell_type": "code",
   "execution_count": null,
   "metadata": {},
   "outputs": [],
   "source": [
    "#d=requests.get('https://www.data.gouv.fr/fr/datasets/r/f3fc66ec-bd2c-42e9-af3f-73fc045571e6')\n",
    "d={}\n",
    "for i in ['2000','2001','2002','2003','2004','2005','2020-t1','2020-t2','2019','2018']:\n",
    "    d.update({i:requests.get(deces_url['deces-'+i+'.txt'])})"
   ]
  },
  {
   "cell_type": "code",
   "execution_count": null,
   "metadata": {},
   "outputs": [],
   "source": [
    "list(d.keys())"
   ]
  },
  {
   "cell_type": "code",
   "execution_count": null,
   "metadata": {},
   "outputs": [],
   "source": [
    "pdict={}\n",
    "\n",
    "def string_to_date(s):\n",
    "    y=int(s[0:4])\n",
    "    m=int(s[4:6])\n",
    "    d=int(s[6:8])\n",
    "    if m==0:\n",
    "        m=1\n",
    "    if d==0:\n",
    "        d=1\n",
    "    if y==0:\n",
    "        raise ValueError\n",
    "    try:\n",
    "        date=datetime.date(y,m,d)\n",
    "    except:\n",
    "        if m==2 and d==29:\n",
    "            d=28\n",
    "            date=datetime.date(y,m,d)\n",
    "            raise ValueError\n",
    "    return date\n",
    "\n",
    "for i in list(d.keys()):\n",
    "    data=[]\n",
    "\n",
    "    for l in d[i].text.splitlines():\n",
    "        [last_name,first_name]=(l[0:80].split(\"/\")[0]).split(\"*\")\n",
    "        sex=int(l[80])\n",
    "        birthlocationcode=l[89:94]\n",
    "        birthlocationname=l[94:124].rstrip()\n",
    "        try:\n",
    "            birthdate=string_to_date(l[81:89])\n",
    "            deathdate=string_to_date(l[154:].strip()[0:8]) # sometimes, heading space\n",
    "            lbis=list(l[154:].strip()[0:8])\n",
    "            lbis[0:4]=list('2003')\n",
    "            lbis=''.join(lbis)\n",
    "            deathdatebis=string_to_date(lbis)\n",
    "        except ValueError:\n",
    "            if lbis!='20030229':\n",
    "                print(l,lbis)\n",
    "        deathlocationcode=l[162:167]\n",
    "        deathid=l[167:176]\n",
    "        data.append([first_name,last_name,sex,birthdate,birthlocationcode,birthlocationname,deathdate,deathlocationcode,deathid,deathdatebis,1])\n",
    "    p=pd.DataFrame(data)\n",
    "    p.columns=['first_name','last_name','sex','birth_date','birth_location_code','birth_location_name','death_date','death_location_code','death_id','death_date_bis','i']\n",
    "    p[\"age\"]=[k.days/365 for k in p[\"death_date\"]-p[\"birth_date\"]]\n",
    "    p[\"age_class\"]=[math.floor(k/20) for k in p[\"age\"]]\n",
    "    pdict.update({i:p})"
   ]
  },
  {
   "cell_type": "code",
   "execution_count": null,
   "metadata": {},
   "outputs": [],
   "source": [
    "pdict[\"2020-t1\"][\"age\"].hist(bins=100)"
   ]
  },
  {
   "cell_type": "code",
   "execution_count": null,
   "metadata": {},
   "outputs": [],
   "source": [
    "import pandas_bokeh\n",
    "pandas_bokeh.output_notebook()"
   ]
  },
  {
   "cell_type": "markdown",
   "metadata": {},
   "source": [
    "# Canicule 2003"
   ]
  },
  {
   "cell_type": "code",
   "execution_count": null,
   "metadata": {},
   "outputs": [],
   "source": [
    "a={}\n",
    "b={}\n",
    "for y in [2003,2000,2001,2002,2004,2005]:\n",
    "    print(y)\n",
    "    s2=pdict[str(y)][(pdict[str(y)][\"death_date\"]>=datetime.date(y,1,1)) & (pdict[str(y)][\"age_class\"]>2)].groupby(['death_date_bis']).age_class.value_counts()\n",
    "    if y==2003:\n",
    "        ax=s2.unstack().plot(figsize=(20,15),color='blue',label=str(y))\n",
    "    else:\n",
    "        s2.unstack().plot(ax=ax,color='red')\n",
    "    a[y]=pdict[str(y)][(pdict[str(y)][\"death_date_bis\"]>=datetime.date(2003,8,1)) & \\\n",
    "                       (pdict[str(y)][\"death_date_bis\"]<datetime.date(2003,8,19)) & \\\n",
    "                       (pdict[str(y)][\"age_class\"]>2)].groupby(['death_date_bis']).age_class.value_counts().sum()\n",
    "    b[y]=pdict[str(y)][(pdict[str(y)][\"death_date_bis\"]>=datetime.date(2003,9,1)) & \\\n",
    "                       (pdict[str(y)][\"death_date_bis\"]<datetime.date(2003,12,1)) & \\\n",
    "                       (pdict[str(y)][\"age_class\"]>2)].groupby(['death_date_bis']).age_class.value_counts().sum()"
   ]
  },
  {
   "cell_type": "code",
   "execution_count": null,
   "metadata": {},
   "outputs": [],
   "source": [
    "print(a,b)"
   ]
  },
  {
   "cell_type": "code",
   "execution_count": null,
   "metadata": {},
   "outputs": [],
   "source": [
    "import numpy as np\n",
    "ete2003=a[2003]\n",
    "ete=np.array([a[y] for y in [2000,2001,2002,2004,2005]])\n",
    "aut2003=b[2003]\n",
    "aut=np.array([b[y] for y in [2000,2001,2002,2004,2005]])"
   ]
  },
  {
   "cell_type": "code",
   "execution_count": null,
   "metadata": {},
   "outputs": [],
   "source": [
    "(ete2003-ete.mean())/ete.std()"
   ]
  },
  {
   "cell_type": "code",
   "execution_count": null,
   "metadata": {},
   "outputs": [],
   "source": [
    "(aut2003-aut.mean())/aut.std()"
   ]
  },
  {
   "cell_type": "code",
   "execution_count": null,
   "metadata": {},
   "outputs": [],
   "source": [
    "(aut2003-aut.mean())"
   ]
  },
  {
   "cell_type": "code",
   "execution_count": null,
   "metadata": {},
   "outputs": [],
   "source": [
    "math.sqrt(ete.mean())"
   ]
  },
  {
   "cell_type": "code",
   "execution_count": null,
   "metadata": {},
   "outputs": [],
   "source": [
    "import matplotlib.pyplot as plt\n",
    "plt.plot([2000,2001,2002,2004,2005],aut,'*r',2003,aut2003,'*b')"
   ]
  },
  {
   "cell_type": "markdown",
   "metadata": {},
   "source": [
    "# Covid19 - S1 de 2020"
   ]
  },
  {
   "cell_type": "code",
   "execution_count": null,
   "metadata": {},
   "outputs": [],
   "source": [
    "import sys\n",
    "sys.path.insert(1, '..')\n",
    "from importlib import reload\n",
    "import cocoa.covid19 as cc\n",
    "reload(cc)\n",
    "from cocoa.cocoa import * "
   ]
  },
  {
   "cell_type": "code",
   "execution_count": null,
   "metadata": {},
   "outputs": [],
   "source": [
    "listwhich()"
   ]
  },
  {
   "cell_type": "code",
   "execution_count": null,
   "metadata": {},
   "outputs": [],
   "source": [
    "help(get)"
   ]
  },
  {
   "cell_type": "code",
   "execution_count": null,
   "metadata": {},
   "outputs": [],
   "source": [
    "pc=get(where='France',what='Diff',which='deaths',output='pandas')\n",
    "pc.head()"
   ]
  },
  {
   "cell_type": "code",
   "execution_count": null,
   "metadata": {},
   "outputs": [],
   "source": [
    "p2020=pdict[\"2020-t2\"].append(pdict[\"2020-t1\"])\n",
    "p2019=pdict[\"2019\"]\n",
    "p2018=pdict[\"2018\"]\n",
    "\n",
    "p2019[\"death_date_bis\"]=[datetime.date(2020,y.month,y.day) for y in p2019[\"death_date\"]]\n",
    "p2018[\"death_date_bis\"]=[datetime.date(2020,y.month,y.day) for y in p2018[\"death_date\"]]\n",
    "p2020[\"death_date_bis\"]=p2020[\"death_date\"]\n",
    "\n",
    "p2018.head()"
   ]
  },
  {
   "cell_type": "code",
   "execution_count": null,
   "metadata": {},
   "outputs": [],
   "source": [
    "s2018=p2018[[\"death_date_bis\",\"i\"]][(p2018[\"death_date_bis\"]>=datetime.date(2020,1,1))&\\\n",
    "                        (p2018[\"death_date_bis\"]<datetime.date(2020,7,1))].groupby('death_date_bis').sum()\n",
    "ax=s2018.plot()\n",
    "s2018_bis=s2018.copy()\n",
    "print(s2018_bis)\n",
    "s2018.rolling(7,center=True).mean().plot(ax=ax)"
   ]
  },
  {
   "cell_type": "code",
   "execution_count": null,
   "metadata": {},
   "outputs": [],
   "source": [
    "pc2=pc.set_index('date')[[\"deaths\"]].rolling(7,center=True).mean().reset_index()"
   ]
  },
  {
   "cell_type": "markdown",
   "metadata": {},
   "source": [
    "Ajout d'un 29 février virtuel pour 2018 et 2019"
   ]
  },
  {
   "cell_type": "code",
   "execution_count": null,
   "metadata": {},
   "outputs": [],
   "source": [
    "dataplot2018=p2018[[\"death_date_bis\",\"i\"]][(p2018[\"death_date_bis\"]>=datetime.date(2020,1,1))&\\\n",
    "                        (p2018[\"death_date_bis\"]<datetime.date(2020,7,1))].groupby('death_date_bis').sum()#.rolling(7,center=True).mean()\n",
    "dataplot2018[dataplot2018.index==datetime.date(2020,2,29)]=dataplot2018[(dataplot2018.index>=datetime.date(2020,2,28)) & (dataplot2018.index<=datetime.date(2020,3,1))].i.sum()/2\n",
    "dataplot2018[(dataplot2018.index>=datetime.date(2020,2,28)) & (dataplot2018.index<=datetime.date(2020,3,1))]\n",
    "dataplot2018=dataplot2018.rolling(7,center=True).mean()\n",
    "\n",
    "dataplot2019=p2019[[\"death_date_bis\",\"i\"]][(p2019[\"death_date_bis\"]>=datetime.date(2020,1,1))&\\\n",
    "                        (p2019[\"death_date_bis\"]<datetime.date(2020,7,1))].groupby('death_date_bis').sum()#.rolling(7,center=True).mean()\n",
    "dataplot2019[dataplot2019.index==datetime.date(2020,2,29)]=dataplot2019[(dataplot2019.index>=datetime.date(2020,2,28)) & (dataplot2019.index<=datetime.date(2020,3,1))].i.sum()/2\n",
    "dataplot2019[(dataplot2019.index>=datetime.date(2020,2,28)) & (dataplot2019.index<=datetime.date(2020,3,1))]\n",
    "dataplot2019=dataplot2019.rolling(7,center=True).mean()"
   ]
  },
  {
   "cell_type": "code",
   "execution_count": null,
   "metadata": {},
   "outputs": [],
   "source": [
    "ax=dataplot2018.plot(figsize=(20,12),style=['--'])\n",
    "plt.legend(['décès 2018'])\n",
    "\n",
    "dataplot2019.plot(ax=ax,style=['--'])\n",
    "plt.legend(['décès 2019'])\n",
    "\n",
    "s2020=p2020[[\"death_date_bis\",\"i\"]][(p2020[\"death_date_bis\"]>=datetime.date(2020,1,1))&\\\n",
    "                        (p2020[\"death_date_bis\"]<datetime.date(2020,7,1))].groupby('death_date_bis').sum().rolling(7,center=True).mean()\n",
    "v=[]\n",
    "for k in s2020.reset_index()[\"death_date_bis\"]:\n",
    "    if k in pc2[\"date\"].to_list():\n",
    "        v.append(pc2[pc2[\"date\"]==k.isoformat()][\"deaths\"].to_list()[0])\n",
    "    else:\n",
    "        v.append(0)\n",
    "s2020[\"covid19\"]=v\n",
    "s2020[\"insee - covid19\"]=s2020[\"i\"]-s2020[\"covid19\"]\n",
    "s2020.plot(ax=ax)\n",
    "plt.legend(['décès insee 2018','décès insee 2019','décès insee 2020','covid19','insee2020-covid19'])\n",
    "plt.grid()\n",
    "plt.title('Avec fenêtre glissante de 7 jours centrée ')"
   ]
  },
  {
   "cell_type": "markdown",
   "metadata": {},
   "source": [
    "Création de données covid19 décalées dans le temps"
   ]
  },
  {
   "cell_type": "code",
   "execution_count": null,
   "metadata": {},
   "outputs": [],
   "source": [
    "s2020_shift=[]\n",
    "max_shift_days=15\n",
    "for i in range(max_shift_days):\n",
    "    s2020_shift.append(s2020[[\"covid19\",\"i\"]].copy())\n",
    "    s2020_shift[i].index=s2020_shift[i].index-datetime.timedelta(days=i)"
   ]
  },
  {
   "cell_type": "code",
   "execution_count": null,
   "metadata": {},
   "outputs": [],
   "source": [
    "ax=dataplot2018.plot(figsize=(20,12),style=['--'])\n",
    "plt.legend(['décès 2018'])\n",
    "\n",
    "dataplot2019.plot(ax=ax,style=['--'])\n",
    "plt.legend(['décès 2019'])\n",
    "\n",
    "legend=['décès insee 2018','décès insee 2019','décès insee 2020']\n",
    "\n",
    "for i in range(max_shift_days):\n",
    "    s2020_shift[i][\"insee - covid19\"]=s2020[\"i\"]-s2020_shift[i][\"covid19\"]\n",
    "    if i == 0 :\n",
    "        s2020_shift[i][[\"covid19\",\"insee - covid19\"]].plot(ax=ax)\n",
    "        legend.append('covid19')\n",
    "        legend.append('insee2020-covid19')\n",
    "    elif i in [2,3,4,5,6,7,8]:\n",
    "        s2020_shift[i][[\"insee - covid19\"]].plot(ax=ax,style=['-.'])\n",
    "        legend.append(\"insee - covid19 (shift \"+str(i)+\" days)\")\n",
    "    \n",
    "plt.legend(legend)\n",
    "plt.grid()\n",
    "plt.title('Avec fenêtre glissante de 7 jours centrée ')"
   ]
  }
 ],
 "metadata": {
  "kernelspec": {
   "display_name": "Python 3",
   "language": "python",
   "name": "python3"
  },
  "language_info": {
   "codemirror_mode": {
    "name": "ipython",
    "version": 3
   },
   "file_extension": ".py",
   "mimetype": "text/x-python",
   "name": "python",
   "nbconvert_exporter": "python",
   "pygments_lexer": "ipython3",
   "version": "3.8.2"
  }
 },
 "nbformat": 4,
 "nbformat_minor": 4
}

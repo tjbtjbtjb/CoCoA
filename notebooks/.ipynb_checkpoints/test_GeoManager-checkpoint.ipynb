{
 "cells": [
  {
   "cell_type": "markdown",
   "metadata": {},
   "source": [
    "# Testing cocoa.geo.GeoManager"
   ]
  },
  {
   "cell_type": "markdown",
   "metadata": {},
   "source": [
    "## Importing data\n",
    "If executed locally"
   ]
  },
  {
   "cell_type": "code",
   "execution_count": 1,
   "metadata": {},
   "outputs": [],
   "source": [
    "import sys\n",
    "sys.path.insert(1, '..')"
   ]
  },
  {
   "cell_type": "markdown",
   "metadata": {},
   "source": [
    "If executed on a server (e.g. [Google Colab](https://colab.research.google.com/) ), you should install cocoa via `pip`"
   ]
  },
  {
   "cell_type": "code",
   "execution_count": null,
   "metadata": {},
   "outputs": [],
   "source": [
    "!pip install -q git+https://github.com/tjbtjbtjb/CoCoA.git"
   ]
  },
  {
   "cell_type": "code",
   "execution_count": 2,
   "metadata": {},
   "outputs": [],
   "source": [
    "from cocoa.geo import GeoManager as gm"
   ]
  },
  {
   "cell_type": "markdown",
   "metadata": {},
   "source": [
    "## Getting some help"
   ]
  },
  {
   "cell_type": "code",
   "execution_count": 3,
   "metadata": {},
   "outputs": [
    {
     "name": "stdout",
     "output_type": "stream",
     "text": [
      "Help on class GeoManager in module cocoa.geo:\n",
      "\n",
      "class GeoManager(builtins.object)\n",
      " |  GeoManager(standard='iso2')\n",
      " |  \n",
      " |  GeoManager class definition. No inheritance from any other class.\n",
      " |  \n",
      " |  It should raise only CocoaError and derived exceptions in case\n",
      " |  of errors (see cocoa.error)\n",
      " |  \n",
      " |  Methods defined here:\n",
      " |  \n",
      " |  __init__(self, standard='iso2')\n",
      " |      __init__ member function, with default definition of\n",
      " |      the used standard. To get the current default standard,\n",
      " |      see get_list_standard()[0].\n",
      " |  \n",
      " |  first_db_translation(self, w, db)\n",
      " |      This function helps to translate from country name to\n",
      " |      standard for specific databases. It's the first step\n",
      " |      before final translation.\n",
      " |      \n",
      " |      One can easily add some database support adding some new rules\n",
      " |      for specific databases\n",
      " |  \n",
      " |  get_list_db(self)\n",
      " |      return supported list of database name for translation of\n",
      " |      country names to standard.\n",
      " |  \n",
      " |  get_list_output(self)\n",
      " |      return supported list of output type. First one is default\n",
      " |      for the class\n",
      " |  \n",
      " |  get_list_standard(self)\n",
      " |      return the list of supported standard name of countries.\n",
      " |      First one is default for the class\n",
      " |  \n",
      " |  get_standard(self)\n",
      " |      return current standard use within the GeoManager class\n",
      " |  \n",
      " |  set_standard(self, standard)\n",
      " |      set the working standard type within the GeoManager class.\n",
      " |      The standard should meet the get_list_standard() requirement\n",
      " |  \n",
      " |  to_standard(self, w, **kwargs)\n",
      " |      Given a list of string of locations (countries), returns a\n",
      " |      normalised list according to the used standard (defined\n",
      " |      via the setStandard() or __init__ function. Current default is iso2.\n",
      " |      \n",
      " |      Arguments\n",
      " |      -----------------\n",
      " |      first arg        --  w, list of string of locations (or single string)\n",
      " |                           to convert to standard one\n",
      " |      \n",
      " |      output           -- 'list' (default), 'dict' or 'pandas'\n",
      " |      db               -- database name to help conversion.\n",
      " |                          Default : None, meaning best effort to convert.\n",
      " |                          Known database : jhu, wordometer\n",
      " |      interpret_region -- Boolean, default=False. If yes, the output should\n",
      " |                          be only 'list'.\n",
      " |  \n",
      " |  ----------------------------------------------------------------------\n",
      " |  Data descriptors defined here:\n",
      " |  \n",
      " |  __dict__\n",
      " |      dictionary for instance variables (if defined)\n",
      " |  \n",
      " |  __weakref__\n",
      " |      list of weak references to the object (if defined)\n",
      "\n"
     ]
    }
   ],
   "source": [
    "help(gm)"
   ]
  },
  {
   "cell_type": "markdown",
   "metadata": {},
   "source": [
    "## Usage"
   ]
  },
  {
   "cell_type": "code",
   "execution_count": 4,
   "metadata": {},
   "outputs": [],
   "source": [
    "g=gm() # Create the instance of GeoManager "
   ]
  },
  {
   "cell_type": "markdown",
   "metadata": {},
   "source": [
    "### Suppported options"
   ]
  },
  {
   "cell_type": "code",
   "execution_count": 5,
   "metadata": {},
   "outputs": [
    {
     "data": {
      "text/plain": [
       "[None, 'jhu', 'worldometers', 'owid', 'spf']"
      ]
     },
     "execution_count": 5,
     "metadata": {},
     "output_type": "execute_result"
    }
   ],
   "source": [
    "g.get_list_db()"
   ]
  },
  {
   "cell_type": "code",
   "execution_count": 6,
   "metadata": {},
   "outputs": [
    {
     "data": {
      "text/plain": [
       "['list', 'dict', 'pandas']"
      ]
     },
     "execution_count": 6,
     "metadata": {},
     "output_type": "execute_result"
    }
   ],
   "source": [
    "g.get_list_output()"
   ]
  },
  {
   "cell_type": "code",
   "execution_count": 7,
   "metadata": {},
   "outputs": [
    {
     "data": {
      "text/plain": [
       "['iso2', 'iso3', 'name', 'num']"
      ]
     },
     "execution_count": 7,
     "metadata": {},
     "output_type": "execute_result"
    }
   ],
   "source": [
    "g.get_list_standard()"
   ]
  },
  {
   "cell_type": "code",
   "execution_count": 8,
   "metadata": {},
   "outputs": [
    {
     "data": {
      "text/plain": [
       "'iso2'"
      ]
     },
     "execution_count": 8,
     "metadata": {},
     "output_type": "execute_result"
    }
   ],
   "source": [
    "g.get_standard()"
   ]
  },
  {
   "cell_type": "markdown",
   "metadata": {},
   "source": [
    "### Changing the default output standard"
   ]
  },
  {
   "cell_type": "code",
   "execution_count": 9,
   "metadata": {},
   "outputs": [
    {
     "data": {
      "text/plain": [
       "'name'"
      ]
     },
     "execution_count": 9,
     "metadata": {},
     "output_type": "execute_result"
    }
   ],
   "source": [
    "g.set_standard('name')"
   ]
  },
  {
   "cell_type": "code",
   "execution_count": 10,
   "metadata": {},
   "outputs": [
    {
     "data": {
      "text/plain": [
       "'iso3'"
      ]
     },
     "execution_count": 10,
     "metadata": {},
     "output_type": "execute_result"
    }
   ],
   "source": [
    "g2=gm('iso3')\n",
    "g2.get_standard()"
   ]
  },
  {
   "cell_type": "markdown",
   "metadata": {},
   "source": [
    "### Converting countries to standardized names"
   ]
  },
  {
   "cell_type": "code",
   "execution_count": 11,
   "metadata": {},
   "outputs": [
    {
     "data": {
      "text/plain": [
       "['United Kingdom']"
      ]
     },
     "execution_count": 11,
     "metadata": {},
     "output_type": "execute_result"
    }
   ],
   "source": [
    "g.to_standard('england') # single country"
   ]
  },
  {
   "cell_type": "code",
   "execution_count": 12,
   "metadata": {},
   "outputs": [
    {
     "data": {
      "text/plain": [
       "['Spain', 'Italy']"
      ]
     },
     "execution_count": 12,
     "metadata": {},
     "output_type": "execute_result"
    }
   ],
   "source": [
    "g.to_standard(['esp','it']) # list of countries"
   ]
  },
  {
   "cell_type": "code",
   "execution_count": 13,
   "metadata": {},
   "outputs": [
    {
     "name": "stdout",
     "output_type": "stream",
     "text": [
      "The input name is unknown, try to interpret as a region\n",
      "['Austria', 'Belgium', 'Bulgaria', 'Cyprus', 'Czechia', 'Germany', 'Denmark', 'Spain', 'Estonia', 'Finland', 'France', 'Greece', 'Croatia', 'Hungary', 'Ireland', 'Italy', 'Lithuania', 'Luxembourg', 'Latvia', 'Malta', 'Netherlands', 'Poland', 'Portugal', 'Romania', 'Slovakia', 'Slovenia', 'Sweden']\n"
     ]
    }
   ],
   "source": [
    "from cocoa.error import * \n",
    "try:\n",
    "    z=g.to_standard('European Union') # the name does not exist as a country\n",
    "except CocoaError:\n",
    "    print('The input name is unknown, try to interpret as a region')\n",
    "    z=g.to_standard('European Union',interpret_region=True)\n",
    "print(z)"
   ]
  },
  {
   "cell_type": "code",
   "execution_count": 14,
   "metadata": {},
   "outputs": [
    {
     "data": {
      "text/plain": [
       "['United States',\n",
       " 'Argentina',\n",
       " 'Bolivia, Plurinational State of',\n",
       " 'Brazil',\n",
       " 'Bouvet Island',\n",
       " 'Chile',\n",
       " 'Colombia',\n",
       " 'Ecuador',\n",
       " 'Falkland Islands (Malvinas)',\n",
       " 'French Guiana',\n",
       " 'Guyana',\n",
       " 'Peru',\n",
       " 'Paraguay',\n",
       " 'South Georgia and the South Sandwich Islands',\n",
       " 'Suriname',\n",
       " 'Uruguay',\n",
       " 'Venezuela, Bolivarian Republic of',\n",
       " 'Russian Federation']"
      ]
     },
     "execution_count": 14,
     "metadata": {},
     "output_type": "execute_result"
    }
   ],
   "source": [
    "g.to_standard(['usa','South America','russia'],interpret_region=True) # mix between region and countries"
   ]
  },
  {
   "cell_type": "code",
   "execution_count": 15,
   "metadata": {},
   "outputs": [
    {
     "name": "stderr",
     "output_type": "stream",
     "text": [
      "../cocoa/geo.py:171: UserWarning: Caution. More than one country match the key \"french\" : ['France, ', 'French Guiana, ', 'French Polynesia, ', 'French Southern Territories, ', 'Saint Martin (French part), '], using first one.\n",
      "\n",
      "  ', using first one.\\n')\n"
     ]
    },
    {
     "data": {
      "text/plain": [
       "['France']"
      ]
     },
     "execution_count": 15,
     "metadata": {},
     "output_type": "execute_result"
    }
   ],
   "source": [
    "g.to_standard('french') # difficult interpretation, getting first item, a warning appears"
   ]
  },
  {
   "cell_type": "markdown",
   "metadata": {},
   "source": [
    "### Conversion for specific databases"
   ]
  },
  {
   "cell_type": "code",
   "execution_count": 16,
   "metadata": {},
   "outputs": [
    {
     "name": "stdout",
     "output_type": "stream",
     "text": [
      "Try to interpret within the JHU database country name usage\n"
     ]
    },
    {
     "data": {
      "text/plain": [
       "['Congo, The Democratic Republic of the']"
      ]
     },
     "execution_count": 16,
     "metadata": {},
     "output_type": "execute_result"
    }
   ],
   "source": [
    "try:\n",
    "    z=g.to_standard('Congo (Kinshasa)')\n",
    "except CocoaError:\n",
    "    print('Try to interpret within the JHU database country name usage')\n",
    "    z=g.to_standard('Congo (Kinshasa)',db='jhu')\n",
    "z"
   ]
  },
  {
   "cell_type": "markdown",
   "metadata": {},
   "source": [
    "### Other outputs"
   ]
  },
  {
   "cell_type": "code",
   "execution_count": 17,
   "metadata": {},
   "outputs": [
    {
     "data": {
      "text/plain": [
       "{'fr': 'France', 'spain': 'Spain', 'england': 'United Kingdom'}"
      ]
     },
     "execution_count": 17,
     "metadata": {},
     "output_type": "execute_result"
    }
   ],
   "source": [
    "g.to_standard(['fr','spain','england'],output='dict')"
   ]
  },
  {
   "cell_type": "code",
   "execution_count": 18,
   "metadata": {},
   "outputs": [
    {
     "data": {
      "text/html": [
       "<div>\n",
       "<style scoped>\n",
       "    .dataframe tbody tr th:only-of-type {\n",
       "        vertical-align: middle;\n",
       "    }\n",
       "\n",
       "    .dataframe tbody tr th {\n",
       "        vertical-align: top;\n",
       "    }\n",
       "\n",
       "    .dataframe thead th {\n",
       "        text-align: right;\n",
       "    }\n",
       "</style>\n",
       "<table border=\"1\" class=\"dataframe\">\n",
       "  <thead>\n",
       "    <tr style=\"text-align: right;\">\n",
       "      <th></th>\n",
       "      <th>inputname</th>\n",
       "      <th>name</th>\n",
       "    </tr>\n",
       "  </thead>\n",
       "  <tbody>\n",
       "    <tr>\n",
       "      <th>0</th>\n",
       "      <td>fr</td>\n",
       "      <td>France</td>\n",
       "    </tr>\n",
       "    <tr>\n",
       "      <th>1</th>\n",
       "      <td>spain</td>\n",
       "      <td>Spain</td>\n",
       "    </tr>\n",
       "    <tr>\n",
       "      <th>2</th>\n",
       "      <td>england</td>\n",
       "      <td>United Kingdom</td>\n",
       "    </tr>\n",
       "  </tbody>\n",
       "</table>\n",
       "</div>"
      ],
      "text/plain": [
       "  inputname            name\n",
       "0        fr          France\n",
       "1     spain           Spain\n",
       "2   england  United Kingdom"
      ]
     },
     "execution_count": 18,
     "metadata": {},
     "output_type": "execute_result"
    }
   ],
   "source": [
    "g.to_standard(['fr','spain','england'],output='pandas')"
   ]
  },
  {
   "cell_type": "markdown",
   "metadata": {},
   "source": [
    "## Management of errors"
   ]
  },
  {
   "cell_type": "markdown",
   "metadata": {},
   "source": [
    "As far as possible, errors are managed within the `cocoa.error` framework. `CocoaError` should be raised."
   ]
  },
  {
   "cell_type": "code",
   "execution_count": 19,
   "metadata": {},
   "outputs": [
    {
     "ename": "CocoaKeyError",
     "evalue": "'GeoManager.set_standard error, \"oups not managed. Please see get_list_standard() function'",
     "output_type": "error",
     "traceback": [
      "\u001b[0;31m---------------------------------------------------------------------------\u001b[0m",
      "\u001b[0;31mCocoaKeyError\u001b[0m                             Traceback (most recent call last)",
      "\u001b[0;32m<ipython-input-19-55a54eace16a>\u001b[0m in \u001b[0;36m<module>\u001b[0;34m\u001b[0m\n\u001b[0;32m----> 1\u001b[0;31m \u001b[0mg\u001b[0m\u001b[0;34m.\u001b[0m\u001b[0mset_standard\u001b[0m\u001b[0;34m(\u001b[0m\u001b[0;34m'oups'\u001b[0m\u001b[0;34m)\u001b[0m \u001b[0;31m# the standard is not in the standard list\u001b[0m\u001b[0;34m\u001b[0m\u001b[0;34m\u001b[0m\u001b[0m\n\u001b[0m",
      "\u001b[0;32m~/Programs/Python/CoCoA/cocoa/geo.py\u001b[0m in \u001b[0;36mset_standard\u001b[0;34m(self, standard)\u001b[0m\n\u001b[1;32m     92\u001b[0m         \u001b[0;32mif\u001b[0m \u001b[0mstandard\u001b[0m \u001b[0;32mnot\u001b[0m \u001b[0;32min\u001b[0m \u001b[0mself\u001b[0m\u001b[0;34m.\u001b[0m\u001b[0mget_list_standard\u001b[0m\u001b[0;34m(\u001b[0m\u001b[0;34m)\u001b[0m\u001b[0;34m:\u001b[0m\u001b[0;34m\u001b[0m\u001b[0;34m\u001b[0m\u001b[0m\n\u001b[1;32m     93\u001b[0m             raise CocoaKeyError('GeoManager.set_standard error, \"'+\\\n\u001b[0;32m---> 94\u001b[0;31m                                     \u001b[0mstandard\u001b[0m\u001b[0;34m+\u001b[0m\u001b[0;34m' not managed. Please see '\u001b[0m\u001b[0;31m\\\u001b[0m\u001b[0;34m\u001b[0m\u001b[0;34m\u001b[0m\u001b[0m\n\u001b[0m\u001b[1;32m     95\u001b[0m                                     'get_list_standard() function')\n\u001b[1;32m     96\u001b[0m         \u001b[0mself\u001b[0m\u001b[0;34m.\u001b[0m\u001b[0m_standard\u001b[0m\u001b[0;34m=\u001b[0m\u001b[0mstandard\u001b[0m\u001b[0;34m\u001b[0m\u001b[0;34m\u001b[0m\u001b[0m\n",
      "\u001b[0;31mCocoaKeyError\u001b[0m: 'GeoManager.set_standard error, \"oups not managed. Please see get_list_standard() function'"
     ]
    }
   ],
   "source": [
    "g.set_standard('oups') # the standard is not in the standard list "
   ]
  },
  {
   "cell_type": "code",
   "execution_count": null,
   "metadata": {},
   "outputs": [],
   "source": [
    "g3=gm('hi!') # idem"
   ]
  },
  {
   "cell_type": "code",
   "execution_count": 20,
   "metadata": {},
   "outputs": [
    {
     "ename": "CocoaDbError",
     "evalue": "Unknown database \"another base\" for translation to standardized location names. See get_list_db() or help.",
     "output_type": "error",
     "traceback": [
      "\u001b[0;31m---------------------------------------------------------------------------\u001b[0m",
      "\u001b[0;31mCocoaDbError\u001b[0m                              Traceback (most recent call last)",
      "\u001b[0;32m<ipython-input-20-39775babb578>\u001b[0m in \u001b[0;36m<module>\u001b[0;34m\u001b[0m\n\u001b[0;32m----> 1\u001b[0;31m \u001b[0mg\u001b[0m\u001b[0;34m.\u001b[0m\u001b[0mto_standard\u001b[0m\u001b[0;34m(\u001b[0m\u001b[0;34m'Congo (Kinshasa)'\u001b[0m\u001b[0;34m,\u001b[0m\u001b[0mdb\u001b[0m\u001b[0;34m=\u001b[0m\u001b[0;34m'another base'\u001b[0m\u001b[0;34m)\u001b[0m \u001b[0;31m# unknown base\u001b[0m\u001b[0;34m\u001b[0m\u001b[0;34m\u001b[0m\u001b[0m\n\u001b[0m",
      "\u001b[0;32m~/Programs/Python/CoCoA/cocoa/geo.py\u001b[0m in \u001b[0;36mto_standard\u001b[0;34m(self, w, **kwargs)\u001b[0m\n\u001b[1;32m    122\u001b[0m         \u001b[0mdb\u001b[0m\u001b[0;34m=\u001b[0m\u001b[0mkwargs\u001b[0m\u001b[0;34m.\u001b[0m\u001b[0mget\u001b[0m\u001b[0;34m(\u001b[0m\u001b[0;34m'db'\u001b[0m\u001b[0;34m,\u001b[0m\u001b[0mself\u001b[0m\u001b[0;34m.\u001b[0m\u001b[0mget_list_db\u001b[0m\u001b[0;34m(\u001b[0m\u001b[0;34m)\u001b[0m\u001b[0;34m[\u001b[0m\u001b[0;36m0\u001b[0m\u001b[0;34m]\u001b[0m\u001b[0;34m)\u001b[0m\u001b[0;34m\u001b[0m\u001b[0;34m\u001b[0m\u001b[0m\n\u001b[1;32m    123\u001b[0m         \u001b[0;32mif\u001b[0m \u001b[0mdb\u001b[0m \u001b[0;32mnot\u001b[0m \u001b[0;32min\u001b[0m \u001b[0mself\u001b[0m\u001b[0;34m.\u001b[0m\u001b[0mget_list_db\u001b[0m\u001b[0;34m(\u001b[0m\u001b[0;34m)\u001b[0m\u001b[0;34m:\u001b[0m\u001b[0;34m\u001b[0m\u001b[0;34m\u001b[0m\u001b[0m\n\u001b[0;32m--> 124\u001b[0;31m             raise CocoaDbError('Unknown database \"'+db+'\" for translation to '\n\u001b[0m\u001b[1;32m    125\u001b[0m                 'standardized location names. See get_list_db() or help.')\n\u001b[1;32m    126\u001b[0m \u001b[0;34m\u001b[0m\u001b[0m\n",
      "\u001b[0;31mCocoaDbError\u001b[0m: Unknown database \"another base\" for translation to standardized location names. See get_list_db() or help."
     ]
    }
   ],
   "source": [
    "g.to_standard('Congo (Kinshasa)',db='another base') # unknown base"
   ]
  },
  {
   "cell_type": "code",
   "execution_count": null,
   "metadata": {},
   "outputs": [],
   "source": [
    "g.to_standard('aus',output='another output') # bad output type"
   ]
  },
  {
   "cell_type": "code",
   "execution_count": null,
   "metadata": {},
   "outputs": [],
   "source": [
    "g.to_standard('Europe',interpret_region=1) # bad type (boolean required) for interpret_region option"
   ]
  },
  {
   "cell_type": "code",
   "execution_count": null,
   "metadata": {},
   "outputs": [],
   "source": [
    "g.to_standard('elsewhere') # unknown country"
   ]
  },
  {
   "cell_type": "code",
   "execution_count": null,
   "metadata": {},
   "outputs": [],
   "source": [
    "g.to_standard('European Union',output='dict',interpret_region=True) # cannont create dict or pandas output with interpret_region=True"
   ]
  },
  {
   "cell_type": "code",
   "execution_count": null,
   "metadata": {},
   "outputs": [],
   "source": []
  }
 ],
 "metadata": {
  "kernelspec": {
   "display_name": "Python 3",
   "language": "python",
   "name": "python3"
  },
  "language_info": {
   "codemirror_mode": {
    "name": "ipython",
    "version": 3
   },
   "file_extension": ".py",
   "mimetype": "text/x-python",
   "name": "python",
   "nbconvert_exporter": "python",
   "pygments_lexer": "ipython3",
   "version": "3.7.6"
  }
 },
 "nbformat": 4,
 "nbformat_minor": 4
}

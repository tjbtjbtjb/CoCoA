{
 "cells": [
  {
   "cell_type": "code",
   "execution_count": null,
   "metadata": {},
   "outputs": [],
   "source": [
    "import sys\n",
    "sys.path.insert(1, '..')\n",
    "from cocoa import covid19 as cc\n",
    "from cocoa import world as cw\n",
    "from cocoaplot import display as cd"
   ]
  },
  {
   "cell_type": "code",
   "execution_count": null,
   "metadata": {},
   "outputs": [],
   "source": [
    "p=cc.Parser()\n",
    "w=cw.WorldInfo()"
   ]
  },
  {
   "cell_type": "code",
   "execution_count": null,
   "metadata": {},
   "outputs": [],
   "source": [
    "ww=w.getData()\n",
    "len(w.getWorldCountries())\n",
    "for i in w.getWorldCountries():\n",
    "    if sum(ww[\"Country\"]==i) != 1:\n",
    "        print(i,sum(ww[\"Country\"]==i))\n",
    "ww.head()"
   ]
  },
  {
   "cell_type": "code",
   "execution_count": null,
   "metadata": {},
   "outputs": [],
   "source": [
    "import numpy as np\n",
    "countries=w.getWorldCountries()\n",
    "np.setdiff1d(p.getCountries(),countries)"
   ]
  },
  {
   "cell_type": "code",
   "execution_count": null,
   "metadata": {},
   "outputs": [],
   "source": [
    "whichdata='deaths'\n",
    "d=p.getStats(type='Cumul',which=whichdata,country=countries,output='pandas')\n",
    "d.head()"
   ]
  },
  {
   "cell_type": "code",
   "execution_count": null,
   "metadata": {},
   "outputs": [],
   "source": [
    "from datetime import datetime, timedelta, time\n",
    "import pandas as pd\n",
    "    \n",
    "lastdate=max(d[\"date\"])\n",
    "d0=d[d[\"date\"]==lastdate].sort_values(\"country\")\n",
    "\n",
    "last1week=lastdate-timedelta(weeks=1)\n",
    "d1=d[d[\"date\"]==last1week].sort_values(\"country\")\n",
    "\n",
    "last2week=lastdate-timedelta(weeks=2)\n",
    "d2=d[d[\"date\"]==last2week].sort_values(\"country\")\n",
    "\n",
    "dateref=lastdate-timedelta(weeks=6)\n",
    "dref=d[d[\"date\"]==dateref].sort_values(\"country\")\n",
    "\n",
    "dd=dref.merge(d0.merge(d1.merge(d2,on=\"country\",how=\"inner\",suffixes=('1','2')),on=\"country\",how=\"inner\"),on=\"country\",how=\"inner\",suffixes=('0',''))\n",
    "\n",
    "def setevol0(row):\n",
    "    if row[\"cases1\"]-row[\"cases0\"]== 0:\n",
    "        return -1\n",
    "    else:\n",
    "        return (row[\"cases\"]-row[\"cases1\"])*100./(row[\"cases1\"]-row[\"cases0\"])\n",
    "dd = dd.assign(evol0=dd.apply(setevol0, axis=1))\n",
    "\n",
    "def setevol1(row):\n",
    "    if row[\"cases2\"]-row[\"cases0\"] == 0:\n",
    "        return -1\n",
    "    else:\n",
    "        return (row[\"cases1\"]-row[\"cases2\"])*100./(row[\"cases2\"]-row[\"cases0\"])\n",
    "dd = dd.assign(evol1=dd.apply(setevol1, axis=1))\n",
    "\n",
    "dd[\"acc\"]=dd[\"evol0\"]-dd[\"evol1\"]\n",
    "dd.head()"
   ]
  },
  {
   "cell_type": "code",
   "execution_count": null,
   "metadata": {},
   "outputs": [],
   "source": [
    "import geopandas as gpd\n",
    "\n",
    "geojsondatafile = 'https://raw.githubusercontent.com/johan/world.geo.json/master/countries.geo.json'\n",
    "\n",
    "gdf=gpd.read_file(geojsondatafile)\n",
    "gdf.columns = ['country_code', 'country', 'geometry']\n",
    "gdf.head()"
   ]
  },
  {
   "cell_type": "code",
   "execution_count": null,
   "metadata": {},
   "outputs": [],
   "source": [
    "merged = gdf.merge(dd, on = 'country', how = 'left')\n",
    "merged=merged#[[\"country\",\"geometry\",\"evol0\",\"evol1\",\"acc\",\"cases\"]]\n",
    "merged.head()"
   ]
  },
  {
   "cell_type": "code",
   "execution_count": null,
   "metadata": {},
   "outputs": [],
   "source": [
    "merged[merged[\"cases\"].isnull()]"
   ]
  },
  {
   "cell_type": "code",
   "execution_count": null,
   "metadata": {},
   "outputs": [],
   "source": [
    "import json\n",
    "\n",
    "#Read data to json\n",
    "merged_json = json.loads(merged.to_json())\n",
    "\n",
    "#Convert to str like object\n",
    "json_data = json.dumps(merged_json)"
   ]
  },
  {
   "cell_type": "code",
   "execution_count": null,
   "metadata": {},
   "outputs": [],
   "source": [
    "from bokeh.io import output_notebook, show, output_file\n",
    "from bokeh.plotting import figure\n",
    "from bokeh.models import GeoJSONDataSource, LinearColorMapper, ColorBar, HoverTool\n",
    "from bokeh.palettes import brewer\n",
    "\n",
    "#Input GeoJSON source that contains features for plotting.\n",
    "geosource = GeoJSONDataSource(geojson = json_data)\n",
    "\n",
    "#Define a sequential multi-hue color palette.\n",
    "palette = brewer['RdYlGn'][10] # see https://docs.bokeh.org/en/latest/docs/reference/palettes.html\n",
    "\n",
    "#Reverse color order so that dark blue is highest obesity.\n",
    "\n",
    "hover = HoverTool(tooltips = [ ('Country','@country'),\n",
    "                              ('Total '+whichdata, '@cases'),\n",
    "                              ('Evolution last week in %','@evol0'),\n",
    "                              ('Evolution previous week in %','@evol1') ] )\n",
    "\n",
    "#Instantiate LinearColorMapper that linearly maps numbers in a range, into a sequence of colors.\n",
    "color_mapper = LinearColorMapper(palette = palette, low = -50, high=50)\n",
    "#Define custom tick labels for color bar.\n",
    "#tick_labels = {'0': '0%', '5': '5%', '10':'10%', '15':'15%', '20':'20%'}#, '25':'25%', '30':'30%','35':'35%', '40': '>40%'}\n",
    "\n",
    "#Create color bar. \n",
    "color_bar = ColorBar(color_mapper=color_mapper, label_standoff=8,width = 500, height = 20,\n",
    "border_line_color=None,location = (0,0), orientation = 'horizontal')#, major_label_overrides = tick_labels)\n",
    "\n",
    "#Create figure object.\n",
    "f = figure(title = 'Acceleration (or deceleration) of weekly '+whichdata+' in % at '+str(lastdate), plot_height = 700 , plot_width = 950,tools = [hover])#, toolbar_location = None)\n",
    "f.xgrid.grid_line_color = None\n",
    "f.ygrid.grid_line_color = None\n",
    "\n",
    "#Add patch renderer to figure. \n",
    "f.patches('xs','ys', source = geosource,fill_color = {'field' :'acc', 'transform' : color_mapper},\n",
    "          line_color = 'black', line_width = 0.25, fill_alpha = 1)\n",
    "\n",
    "#Specify figure layout.\n",
    "f.add_layout(color_bar, 'below')\n",
    "\n",
    "#Display figure inline in Jupyter Notebook.\n",
    "output_notebook()\n",
    "\n",
    "#Display figure.\n",
    "show(f)"
   ]
  },
  {
   "cell_type": "code",
   "execution_count": null,
   "metadata": {},
   "outputs": [],
   "source": [
    "from bokeh.io import output_notebook, show, output_file\n",
    "from bokeh.plotting import figure\n",
    "from bokeh.models import GeoJSONDataSource, LinearColorMapper, ColorBar, HoverTool\n",
    "from bokeh.palettes import brewer\n",
    "\n",
    "#Input GeoJSON source that contains features for plotting.\n",
    "geosource = GeoJSONDataSource(geojson = json_data)\n",
    "\n",
    "#Define a sequential multi-hue color palette.\n",
    "palette = brewer['YlOrRd'][8] # see https://docs.bokeh.org/en/latest/docs/reference/palettes.html\n",
    "palette = palette[::-1]\n",
    "#Reverse color order so that dark blue is highest obesity.d\n",
    "\n",
    "hover = HoverTool(tooltips = [ ('Country','@country'),\n",
    "                              ('Total deaths', '@cases'),\n",
    "                              ('Evolution last week in %','@evol0'),\n",
    "                              ('Evolution previous week in %','@evol1') ] )\n",
    "\n",
    "#Instantiate LinearColorMapper that linearly maps numbers in a range, into a sequence of colors.\n",
    "color_mapper = LinearColorMapper(palette = palette, low = 0, high=100)\n",
    "#Define custom tick labels for color bar.\n",
    "#tick_labels = {'0': '0%', '5': '5%', '10':'10%', '15':'15%', '20':'20%'}#, '25':'25%', '30':'30%','35':'35%', '40': '>40%'}\n",
    "\n",
    "#Create color bar. \n",
    "color_bar = ColorBar(color_mapper=color_mapper, label_standoff=8,width = 500, height = 20,\n",
    "border_line_color=None,location = (0,0), orientation = 'horizontal')#, major_label_overrides = tick_labels)\n",
    "\n",
    "#Create figure object.\n",
    "f = figure(title = whichdata+' evolution in % last week at '+str(lastdate), plot_height = 700 , plot_width = 950,tools = [hover])#, toolbar_location = None)\n",
    "f.xgrid.grid_line_color = None\n",
    "f.ygrid.grid_line_color = None\n",
    "\n",
    "#Add patch renderer to figure. \n",
    "f.patches('xs','ys', source = geosource,fill_color = {'field' :'evol0', 'transform' : color_mapper},\n",
    "          line_color = 'black', line_width = 0.25, fill_alpha = 1)\n",
    "\n",
    "#Specify figure layout.\n",
    "f.add_layout(color_bar, 'below')\n",
    "\n",
    "#Display figure inline in Jupyter Notebook.\n",
    "output_notebook()\n",
    "\n",
    "#Display figure.\n",
    "show(f)"
   ]
  },
  {
   "cell_type": "code",
   "execution_count": null,
   "metadata": {},
   "outputs": [],
   "source": []
  }
 ],
 "metadata": {
  "kernelspec": {
   "display_name": "Python 3",
   "language": "python",
   "name": "python3"
  },
  "language_info": {
   "codemirror_mode": {
    "name": "ipython",
    "version": 3
   },
   "file_extension": ".py",
   "mimetype": "text/x-python",
   "name": "python",
   "nbconvert_exporter": "python",
   "pygments_lexer": "ipython3",
   "version": "3.8.2"
  }
 },
 "nbformat": 4,
 "nbformat_minor": 2
}

{
 "cells": [
  {
   "cell_type": "markdown",
   "metadata": {},
   "source": [
    "# Testing cocoa.geo.GeoRegion (cocoa release 1.0)"
   ]
  },
  {
   "cell_type": "markdown",
   "metadata": {},
   "source": [
    "Within the cocoa.geo, the GeoRegion provides method interpret region name as list of country names.\n",
    "\n",
    "## Making CoCoA available\n",
    "If executed locally"
   ]
  },
  {
   "cell_type": "code",
   "execution_count": 1,
   "metadata": {},
   "outputs": [],
   "source": [
    "import sys\n",
    "sys.path.insert(1, '..')"
   ]
  },
  {
   "cell_type": "markdown",
   "metadata": {},
   "source": [
    "If executed on a server (e.g. [Google Colab](https://colab.research.google.com/) ), you should install cocoa via `pip3`"
   ]
  },
  {
   "cell_type": "code",
   "execution_count": null,
   "metadata": {},
   "outputs": [],
   "source": [
    "!pip3 install -q git+https://github.com/tjbtjbtjb/CoCoA.git"
   ]
  },
  {
   "cell_type": "code",
   "execution_count": 2,
   "metadata": {},
   "outputs": [],
   "source": [
    "from cocoa.geo import GeoRegion as gr"
   ]
  },
  {
   "cell_type": "markdown",
   "metadata": {},
   "source": [
    "## Getting some help"
   ]
  },
  {
   "cell_type": "code",
   "execution_count": 3,
   "metadata": {},
   "outputs": [
    {
     "name": "stdout",
     "output_type": "stream",
     "text": [
      "Help on class GeoRegion in module cocoa.geo:\n",
      "\n",
      "class GeoRegion(builtins.object)\n",
      " |  GeoRegion class definition. Does not inheritate from any other\n",
      " |  class.\n",
      " |  \n",
      " |  It should raise only CocoaError and derived exceptions in case\n",
      " |  of errors (see cocoa.error)\n",
      " |  \n",
      " |  Methods defined here:\n",
      " |  \n",
      " |  __init__(self)\n",
      " |      __init__ member function.\n",
      " |  \n",
      " |  get_countries_from_region(self, region)\n",
      " |      it returns a list of countries for the given region name.\n",
      " |      The standard used is iso3. To convert to another standard,\n",
      " |      use the GeoManager class.\n",
      " |  \n",
      " |  get_pandas(self)\n",
      " |  \n",
      " |  get_region_list(self)\n",
      " |  \n",
      " |  get_source(self)\n",
      " |  \n",
      " |  ----------------------------------------------------------------------\n",
      " |  Data descriptors defined here:\n",
      " |  \n",
      " |  __dict__\n",
      " |      dictionary for instance variables (if defined)\n",
      " |  \n",
      " |  __weakref__\n",
      " |      list of weak references to the object (if defined)\n",
      "\n"
     ]
    }
   ],
   "source": [
    "help(gr)"
   ]
  },
  {
   "cell_type": "markdown",
   "metadata": {},
   "source": [
    "## Usage"
   ]
  },
  {
   "cell_type": "code",
   "execution_count": 4,
   "metadata": {},
   "outputs": [],
   "source": [
    "g=gr() # Create the instance of GeoManager "
   ]
  },
  {
   "cell_type": "markdown",
   "metadata": {},
   "source": [
    "### Known regions (United Nation M49 geoscheme)\n",
    "and some usefull additionnal regions."
   ]
  },
  {
   "cell_type": "code",
   "execution_count": 5,
   "metadata": {},
   "outputs": [
    {
     "data": {
      "text/plain": [
       "['World',\n",
       " 'Africa',\n",
       " 'Northern Africa',\n",
       " 'Sub-Saharan Africa',\n",
       " 'Eastern Africa',\n",
       " 'Middle Africa',\n",
       " 'Southern Africa',\n",
       " 'Western Africa',\n",
       " 'Americas',\n",
       " 'Latin America and the Caribbean',\n",
       " 'Caribbean',\n",
       " 'Central America',\n",
       " 'South America',\n",
       " 'North America',\n",
       " 'Northern America',\n",
       " 'Asia',\n",
       " 'Central Asia',\n",
       " 'Eastern Asia',\n",
       " 'South-eastern Asia',\n",
       " 'Southern Asia',\n",
       " 'Western Asia',\n",
       " 'Europe',\n",
       " 'Eastern Europe',\n",
       " 'Northern Europe',\n",
       " 'Southern Europe',\n",
       " 'Western Europe',\n",
       " 'Oceania',\n",
       " 'Australia and New Zealand',\n",
       " 'Melanesia',\n",
       " 'Micronesia',\n",
       " 'Polynesia',\n",
       " 'European Union',\n",
       " 'G7',\n",
       " 'G8',\n",
       " 'G20',\n",
       " 'Oecd',\n",
       " 'G77']"
      ]
     },
     "execution_count": 5,
     "metadata": {},
     "output_type": "execute_result"
    }
   ],
   "source": [
    "g.get_region_list() # The list of known regions"
   ]
  },
  {
   "cell_type": "code",
   "execution_count": 6,
   "metadata": {},
   "outputs": [
    {
     "data": {
      "text/plain": [
       "{'UN_M49': 'https://en.wikipedia.org/wiki/UN_M49',\n",
       " 'GeoScheme': 'https://en.wikipedia.org/wiki/List_of_countries_by_United_Nations_geoscheme',\n",
       " 'European Union': 'https://europa.eu/european-union/about-eu/countries/member-countries_en',\n",
       " 'G7': 'https://en.wikipedia.org/wiki/Group_of_Seven',\n",
       " 'G8': 'https://en.wikipedia.org/wiki/Group_of_Eight',\n",
       " 'G20': 'https://en.wikipedia.org/wiki/G20',\n",
       " 'G77': 'https://www.g77.org/doc/members.html',\n",
       " 'OECD': 'https://en.wikipedia.org/wiki/OECD'}"
      ]
     },
     "execution_count": 6,
     "metadata": {},
     "output_type": "execute_result"
    }
   ],
   "source": [
    "g.get_source()"
   ]
  },
  {
   "cell_type": "markdown",
   "metadata": {},
   "source": [
    "### Getting countries from a given region"
   ]
  },
  {
   "cell_type": "code",
   "execution_count": 8,
   "metadata": {},
   "outputs": [
    {
     "data": {
      "text/plain": [
       "['ARG',\n",
       " 'BOL',\n",
       " 'BRA',\n",
       " 'BVT',\n",
       " 'CHL',\n",
       " 'COL',\n",
       " 'ECU',\n",
       " 'FLK',\n",
       " 'GUF',\n",
       " 'GUY',\n",
       " 'PER',\n",
       " 'PRY',\n",
       " 'SGS',\n",
       " 'SUR',\n",
       " 'URY',\n",
       " 'VEN']"
      ]
     },
     "execution_count": 8,
     "metadata": {},
     "output_type": "execute_result"
    }
   ],
   "source": [
    "g.get_countries_from_region('South America')"
   ]
  },
  {
   "cell_type": "markdown",
   "metadata": {},
   "source": [
    "### Getting the whole pandas from the used database"
   ]
  },
  {
   "cell_type": "code",
   "execution_count": 9,
   "metadata": {},
   "outputs": [
    {
     "data": {
      "text/html": [
       "<div>\n",
       "<style scoped>\n",
       "    .dataframe tbody tr th:only-of-type {\n",
       "        vertical-align: middle;\n",
       "    }\n",
       "\n",
       "    .dataframe tbody tr th {\n",
       "        vertical-align: top;\n",
       "    }\n",
       "\n",
       "    .dataframe thead th {\n",
       "        text-align: right;\n",
       "    }\n",
       "</style>\n",
       "<table border=\"1\" class=\"dataframe\">\n",
       "  <thead>\n",
       "    <tr style=\"text-align: right;\">\n",
       "      <th></th>\n",
       "      <th>iso3</th>\n",
       "      <th>capital</th>\n",
       "      <th>region</th>\n",
       "      <th>region_name</th>\n",
       "    </tr>\n",
       "  </thead>\n",
       "  <tbody>\n",
       "    <tr>\n",
       "      <th>0</th>\n",
       "      <td>DZA</td>\n",
       "      <td>Algiers</td>\n",
       "      <td>15</td>\n",
       "      <td>Northern Africa</td>\n",
       "    </tr>\n",
       "    <tr>\n",
       "      <th>1</th>\n",
       "      <td>DZA</td>\n",
       "      <td>Algiers</td>\n",
       "      <td>2</td>\n",
       "      <td>Africa</td>\n",
       "    </tr>\n",
       "    <tr>\n",
       "      <th>2</th>\n",
       "      <td>DZA</td>\n",
       "      <td>Algiers</td>\n",
       "      <td>1</td>\n",
       "      <td>World</td>\n",
       "    </tr>\n",
       "    <tr>\n",
       "      <th>3</th>\n",
       "      <td>EGY</td>\n",
       "      <td>Cairo</td>\n",
       "      <td>15</td>\n",
       "      <td>Northern Africa</td>\n",
       "    </tr>\n",
       "    <tr>\n",
       "      <th>4</th>\n",
       "      <td>EGY</td>\n",
       "      <td>Cairo</td>\n",
       "      <td>2</td>\n",
       "      <td>Africa</td>\n",
       "    </tr>\n",
       "    <tr>\n",
       "      <th>...</th>\n",
       "      <td>...</td>\n",
       "      <td>...</td>\n",
       "      <td>...</td>\n",
       "      <td>...</td>\n",
       "    </tr>\n",
       "    <tr>\n",
       "      <th>885</th>\n",
       "      <td>TUV</td>\n",
       "      <td>Funafuti</td>\n",
       "      <td>9</td>\n",
       "      <td>Oceania</td>\n",
       "    </tr>\n",
       "    <tr>\n",
       "      <th>886</th>\n",
       "      <td>TUV</td>\n",
       "      <td>Funafuti</td>\n",
       "      <td>1</td>\n",
       "      <td>World</td>\n",
       "    </tr>\n",
       "    <tr>\n",
       "      <th>887</th>\n",
       "      <td>WLF</td>\n",
       "      <td>Mata-Utu</td>\n",
       "      <td>61</td>\n",
       "      <td>Polynesia</td>\n",
       "    </tr>\n",
       "    <tr>\n",
       "      <th>888</th>\n",
       "      <td>WLF</td>\n",
       "      <td>Mata-Utu</td>\n",
       "      <td>9</td>\n",
       "      <td>Oceania</td>\n",
       "    </tr>\n",
       "    <tr>\n",
       "      <th>889</th>\n",
       "      <td>WLF</td>\n",
       "      <td>Mata-Utu</td>\n",
       "      <td>1</td>\n",
       "      <td>World</td>\n",
       "    </tr>\n",
       "  </tbody>\n",
       "</table>\n",
       "<p>890 rows × 4 columns</p>\n",
       "</div>"
      ],
      "text/plain": [
       "    iso3   capital  region      region_name\n",
       "0    DZA   Algiers      15  Northern Africa\n",
       "1    DZA   Algiers       2           Africa\n",
       "2    DZA   Algiers       1            World\n",
       "3    EGY     Cairo      15  Northern Africa\n",
       "4    EGY     Cairo       2           Africa\n",
       "..   ...       ...     ...              ...\n",
       "885  TUV  Funafuti       9          Oceania\n",
       "886  TUV  Funafuti       1            World\n",
       "887  WLF  Mata-Utu      61        Polynesia\n",
       "888  WLF  Mata-Utu       9          Oceania\n",
       "889  WLF  Mata-Utu       1            World\n",
       "\n",
       "[890 rows x 4 columns]"
      ]
     },
     "execution_count": 9,
     "metadata": {},
     "output_type": "execute_result"
    }
   ],
   "source": [
    "g.get_pandas()"
   ]
  },
  {
   "cell_type": "markdown",
   "metadata": {},
   "source": [
    "## Management of errors"
   ]
  },
  {
   "cell_type": "markdown",
   "metadata": {},
   "source": [
    "As far as possible, errors are managed within the `cocoa.error` framework. `CocoaError` should be raised."
   ]
  },
  {
   "cell_type": "code",
   "execution_count": 10,
   "metadata": {},
   "outputs": [
    {
     "ename": "CocoaKeyError",
     "evalue": "'The given region \"Somewhere\" is unknown.'",
     "output_type": "error",
     "traceback": [
      "\u001b[0;31m---------------------------------------------------------------------------\u001b[0m",
      "\u001b[0;31mCocoaKeyError\u001b[0m                             Traceback (most recent call last)",
      "\u001b[0;32m<ipython-input-10-1ab44cb1dcbb>\u001b[0m in \u001b[0;36m<module>\u001b[0;34m\u001b[0m\n\u001b[0;32m----> 1\u001b[0;31m \u001b[0mg\u001b[0m\u001b[0;34m.\u001b[0m\u001b[0mget_countries_from_region\u001b[0m\u001b[0;34m(\u001b[0m\u001b[0;34m'somewhere'\u001b[0m\u001b[0;34m)\u001b[0m \u001b[0;31m# unknown region\u001b[0m\u001b[0;34m\u001b[0m\u001b[0;34m\u001b[0m\u001b[0m\n\u001b[0m",
      "\u001b[0;32m~/Dropbox/Git/dev_versions/CoCoA/cocoa/geo.py\u001b[0m in \u001b[0;36mget_countries_from_region\u001b[0;34m(self, region)\u001b[0m\n\u001b[1;32m    566\u001b[0m \u001b[0;34m\u001b[0m\u001b[0m\n\u001b[1;32m    567\u001b[0m         \u001b[0;32mif\u001b[0m \u001b[0mregion\u001b[0m \u001b[0;32mnot\u001b[0m \u001b[0;32min\u001b[0m \u001b[0mself\u001b[0m\u001b[0;34m.\u001b[0m\u001b[0mget_region_list\u001b[0m\u001b[0;34m(\u001b[0m\u001b[0;34m)\u001b[0m\u001b[0;34m:\u001b[0m\u001b[0;34m\u001b[0m\u001b[0;34m\u001b[0m\u001b[0m\n\u001b[0;32m--> 568\u001b[0;31m             \u001b[0;32mraise\u001b[0m \u001b[0mCocoaKeyError\u001b[0m\u001b[0;34m(\u001b[0m\u001b[0;34m'The given region \"'\u001b[0m\u001b[0;34m+\u001b[0m\u001b[0mstr\u001b[0m\u001b[0;34m(\u001b[0m\u001b[0mregion\u001b[0m\u001b[0;34m)\u001b[0m\u001b[0;34m+\u001b[0m\u001b[0;34m'\" is unknown.'\u001b[0m\u001b[0;34m)\u001b[0m\u001b[0;34m\u001b[0m\u001b[0;34m\u001b[0m\u001b[0m\n\u001b[0m\u001b[1;32m    569\u001b[0m \u001b[0;34m\u001b[0m\u001b[0m\n\u001b[1;32m    570\u001b[0m         \u001b[0mclist\u001b[0m\u001b[0;34m=\u001b[0m\u001b[0;34m[\u001b[0m\u001b[0;34m]\u001b[0m\u001b[0;34m\u001b[0m\u001b[0;34m\u001b[0m\u001b[0m\n",
      "\u001b[0;31mCocoaKeyError\u001b[0m: 'The given region \"Somewhere\" is unknown.'"
     ]
    }
   ],
   "source": [
    "g.get_countries_from_region('somewhere') # unknown region"
   ]
  },
  {
   "cell_type": "code",
   "execution_count": 11,
   "metadata": {},
   "outputs": [
    {
     "ename": "CocoaKeyError",
     "evalue": "'The given region is not a str type.'",
     "output_type": "error",
     "traceback": [
      "\u001b[0;31m---------------------------------------------------------------------------\u001b[0m",
      "\u001b[0;31mCocoaKeyError\u001b[0m                             Traceback (most recent call last)",
      "\u001b[0;32m<ipython-input-11-409ae1e0b531>\u001b[0m in \u001b[0;36m<module>\u001b[0;34m\u001b[0m\n\u001b[0;32m----> 1\u001b[0;31m \u001b[0mg\u001b[0m\u001b[0;34m.\u001b[0m\u001b[0mget_countries_from_region\u001b[0m\u001b[0;34m(\u001b[0m\u001b[0;34m[\u001b[0m\u001b[0;34m'Europe'\u001b[0m\u001b[0;34m,\u001b[0m\u001b[0;34m'Americas'\u001b[0m\u001b[0;34m]\u001b[0m\u001b[0;34m)\u001b[0m \u001b[0;31m# Bad type, expecting only string\u001b[0m\u001b[0;34m\u001b[0m\u001b[0;34m\u001b[0m\u001b[0m\n\u001b[0m",
      "\u001b[0;32m~/Dropbox/Git/dev_versions/CoCoA/cocoa/geo.py\u001b[0m in \u001b[0;36mget_countries_from_region\u001b[0;34m(self, region)\u001b[0m\n\u001b[1;32m    561\u001b[0m \u001b[0;34m\u001b[0m\u001b[0m\n\u001b[1;32m    562\u001b[0m         \u001b[0;32mif\u001b[0m \u001b[0mtype\u001b[0m\u001b[0;34m(\u001b[0m\u001b[0mregion\u001b[0m\u001b[0;34m)\u001b[0m \u001b[0;34m!=\u001b[0m \u001b[0mstr\u001b[0m\u001b[0;34m:\u001b[0m\u001b[0;34m\u001b[0m\u001b[0;34m\u001b[0m\u001b[0m\n\u001b[0;32m--> 563\u001b[0;31m             \u001b[0;32mraise\u001b[0m \u001b[0mCocoaKeyError\u001b[0m\u001b[0;34m(\u001b[0m\u001b[0;34m\"The given region is not a str type.\"\u001b[0m\u001b[0;34m)\u001b[0m\u001b[0;34m\u001b[0m\u001b[0;34m\u001b[0m\u001b[0m\n\u001b[0m\u001b[1;32m    564\u001b[0m \u001b[0;34m\u001b[0m\u001b[0m\n\u001b[1;32m    565\u001b[0m         \u001b[0mregion\u001b[0m\u001b[0;34m=\u001b[0m\u001b[0mregion\u001b[0m\u001b[0;34m.\u001b[0m\u001b[0mtitle\u001b[0m\u001b[0;34m(\u001b[0m\u001b[0;34m)\u001b[0m  \u001b[0;31m# if not properly capitalized\u001b[0m\u001b[0;34m\u001b[0m\u001b[0;34m\u001b[0m\u001b[0m\n",
      "\u001b[0;31mCocoaKeyError\u001b[0m: 'The given region is not a str type.'"
     ]
    }
   ],
   "source": [
    "g.get_countries_from_region(['Europe','Americas']) # Bad type, expecting only string"
   ]
  },
  {
   "cell_type": "code",
   "execution_count": null,
   "metadata": {},
   "outputs": [],
   "source": []
  }
 ],
 "metadata": {
  "kernelspec": {
   "display_name": "Python 3",
   "language": "python",
   "name": "python3"
  },
  "language_info": {
   "codemirror_mode": {
    "name": "ipython",
    "version": 3
   },
   "file_extension": ".py",
   "mimetype": "text/x-python",
   "name": "python",
   "nbconvert_exporter": "python",
   "pygments_lexer": "ipython3",
   "version": "3.8.5"
  }
 },
 "nbformat": 4,
 "nbformat_minor": 4
}

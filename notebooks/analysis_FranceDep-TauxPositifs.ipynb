{
 "cells": [
  {
   "cell_type": "code",
   "execution_count": null,
   "metadata": {},
   "outputs": [],
   "source": [
    "import geopandas as gpd\n",
    "import numpy as np\n",
    "import pandas as pd\n",
    "\n",
    "shapefile='https://datanova.laposte.fr/explore/dataset/geoflar-departements-2015/download/?format=shp&timezone=Europe/Berlin&lang=fr'\n",
    "    \n",
    "gdf = gpd.read_file(shapefile)[['code_dept','nom_dept','geometry','code_reg','nom_reg']]\n",
    "gdf.sort_values(\"code_reg\",inplace=True)\n",
    "gdf[[\"code_reg\",\"nom_reg\"]].groupby(\"code_reg\").sum()"
   ]
  },
  {
   "cell_type": "code",
   "execution_count": null,
   "metadata": {},
   "outputs": [],
   "source": [
    "gdf2=gdf.copy()\n",
    "list_translation={\"GUADELOUPE\":(63,23),\n",
    "                  \"MARTINIQUE\":(63,23),\n",
    "                  \"GUYANE\":(50,35),\n",
    "                  \"REUNION\":(-51,60),\n",
    "                  \"MAYOTTE\":(-38,51.5)}\n",
    "for d,t in list_translation.items():\n",
    "    gdf2.loc[gdf2[\"nom_dept\"]==d,\"geometry\"]=gdf2[gdf2[\"nom_dept\"]==d][\"geometry\"].translate(t[0],t[1])\n",
    "gdf2.head(10)"
   ]
  },
  {
   "cell_type": "code",
   "execution_count": null,
   "metadata": {},
   "outputs": [],
   "source": [
    "# cas des tests\n",
    "# Source https://www.data.gouv.fr/fr/datasets/donnees-relatives-aux-resultats-des-tests-virologiques-covid-19/\n",
    "\n",
    "import urllib.request, json \n",
    "import pandas as pd\n",
    "from io import StringIO\n",
    "\n",
    "url_covid_france='https://www.data.gouv.fr/fr/datasets/r/406c6a23-e283-4300-9484-54e78c8ae675' # weekly = 'https://www.data.gouv.fr/fr/datasets/r/dd3ac13c-e87f-4b33-8897-07baff4e1783'\n",
    "\n",
    "with urllib.request.urlopen(url_covid_france) as url:\n",
    "    data=pd.read_table(StringIO(url.read().decode()),sep=\",\")\n",
    "data.head()"
   ]
  },
  {
   "cell_type": "code",
   "execution_count": null,
   "metadata": {},
   "outputs": [],
   "source": [
    "d=data\n",
    "d[\"cases\"]=d[\"p\"]\n",
    "#d[\"date\"]=pd.to_datetime(d['week']+\"-6\", format='%G-S%V-%w') # weekly case\n",
    "d[\"date\"]=pd.to_datetime(d['jour'], format='%Y-%m-%d')\n",
    "d=d[d[\"cl_age90\"]==0]\n",
    "d.tail()"
   ]
  },
  {
   "cell_type": "code",
   "execution_count": null,
   "metadata": {},
   "outputs": [],
   "source": [
    "import datetime\n",
    "import pandas as pd\n",
    "\n",
    "lastdate=max(d[\"date\"])-datetime.timedelta(weeks=1)\n",
    "#lastdate=datetime.datetime(2020,6,12)\n",
    "\n",
    "print(lastdate)\n",
    "prevdate=lastdate-datetime.timedelta(weeks=1)\n",
    "\n",
    "dsum=d[d[\"date\"]>=prevdate].groupby(\"dep\")[[\"p\",\"t\"]].sum().sort_values(\"dep\")\n",
    "dsum[\"rate\"]=100.*dsum[\"p\"]/dsum[\"t\"]\n",
    "dsum.head()"
   ]
  },
  {
   "cell_type": "code",
   "execution_count": null,
   "metadata": {},
   "outputs": [],
   "source": [
    "merged=gdf2.merge(dsum, left_on = 'code_dept', right_on = 'dep', how = 'left')\n",
    "geojson=merged.to_json()\n",
    "merged.head(10)"
   ]
  },
  {
   "cell_type": "code",
   "execution_count": null,
   "metadata": {},
   "outputs": [],
   "source": [
    "from bokeh.io import curdoc, output_notebook, show\n",
    "from bokeh.models import Slider, HoverTool, GeoJSONDataSource, LinearColorMapper, ColorBar\n",
    "from bokeh.layouts import widgetbox, row, column\n",
    "from bokeh.palettes import brewer\n",
    "from bokeh.plotting import figure\n",
    "from bokeh.palettes import brewer\n",
    "\n",
    "#Input GeoJSON source that contains features for plotting.\n",
    "geosource = GeoJSONDataSource( geojson=geojson )\n",
    "\n",
    "#Define a sequential multi-hue color palette.\n",
    "palette = brewer['Reds'][9]\n",
    "palette = palette[::-1]\n",
    "\n",
    "#Instantiate LinearColorMapper that linearly maps numbers in a range, into a sequence of colors. Input nan_color.\n",
    "color_mapper = LinearColorMapper(palette = palette, low = 0, high = 5, nan_color = '#d9d9d9')\n",
    "\n",
    "#Add hover tool\n",
    "hover = HoverTool(tooltips = [ ('Département','@nom_dept (@code_dept)'),\n",
    "                              ('Nombre de tests hebdo','@t'),\n",
    "                              ('Nombre de cas positifs hebdo','@p'),\n",
    "                              ('Taux positivité','@rate')])\n",
    "\n",
    "#Create color bar. \n",
    "color_bar = ColorBar(color_mapper=color_mapper, label_standoff=8,width = 500, height = 20,\n",
    "                     border_line_color=None,location = (0,0), orientation = 'horizontal')#, major_label_overrides = tick_labels)\n",
    "\n",
    "\n",
    "#Create figure object.\n",
    "p = figure(title = 'Taux de positivité intégré sur une semaine, au '+str(lastdate), plot_height = 800 , plot_width = 750, tools = [hover]) # toolbar_location = None,\n",
    "p.xgrid.grid_line_color = None\n",
    "p.ygrid.grid_line_color = None\n",
    "\n",
    "#Add patch renderer to figure. \n",
    "p.patches('xs','ys', source = geosource,fill_color = {'field' :'rate', 'transform' : color_mapper}, line_color = 'black', line_width = 0.25, fill_alpha = 1)\n",
    "\n",
    "p.add_layout(color_bar, 'below')\n",
    "\n",
    "# Make a column layout of widgetbox(slider) and plot, and add it to the current document\n",
    "layout = column(p)#,widgetbox(slider))\n",
    "#curdoc().add_root(layout)\n",
    "\n",
    "#Display plot inline in Jupyter notebook\n",
    "output_notebook()\n",
    "\n",
    "#Display plot\n",
    "show(layout)"
   ]
  },
  {
   "cell_type": "code",
   "execution_count": null,
   "metadata": {},
   "outputs": [],
   "source": [
    "dsum[dsum[\"rate\"]<10][\"rate\"].plot.hist()#(bins=12, alpha=0.5)"
   ]
  },
  {
   "cell_type": "code",
   "execution_count": null,
   "metadata": {},
   "outputs": [],
   "source": [
    "gdf.sort_values(\"code_dept\",inplace=True)\n",
    "gdf.tail()"
   ]
  },
  {
   "cell_type": "code",
   "execution_count": null,
   "metadata": {},
   "outputs": [],
   "source": [
    "dsum[dsum[\"rate\"]>5]"
   ]
  },
  {
   "cell_type": "code",
   "execution_count": null,
   "metadata": {},
   "outputs": [],
   "source": [
    "merged2 = merged.dissolve(by=['code_reg','nom_reg'], aggfunc='sum')[[\"geometry\",\"p\",\"t\"]]\n",
    "merged2[\"rate\"]=100.*merged2[\"p\"]/merged2[\"t\"]\n",
    "merged2.reset_index(inplace=True)\n",
    "geojson2=merged2.to_json()\n",
    "merged2.head(10)"
   ]
  },
  {
   "cell_type": "code",
   "execution_count": null,
   "metadata": {},
   "outputs": [],
   "source": [
    "from bokeh.io import curdoc, output_notebook, output_file, show\n",
    "from bokeh.models import Slider, HoverTool, GeoJSONDataSource, LinearColorMapper, ColorBar\n",
    "from bokeh.layouts import widgetbox, row, column\n",
    "from bokeh.palettes import brewer, mpl\n",
    "from bokeh.plotting import figure\n",
    "from bokeh.palettes import brewer\n",
    "\n",
    "#Input GeoJSON source that contains features for plotting.\n",
    "geosource = GeoJSONDataSource( geojson=geojson2 )\n",
    "\n",
    "#Define a sequential multi-hue color palette.\n",
    "#palette = brewer['Reds'][9]\n",
    "palette = mpl['Inferno'][256]\n",
    "palette = palette[::-1][0:128]\n",
    "\n",
    "#Instantiate LinearColorMapper that linearly maps numbers in a range, into a sequence of colors. Input nan_color.\n",
    "color_mapper = LinearColorMapper(palette = palette, low = 0, high = 5, nan_color = '#d9d9d9')\n",
    "\n",
    "#Add hover tool\n",
    "hover = HoverTool(tooltips = [ ('Région','@nom_reg'),\n",
    "                              ('Nombre de tests hebdo','@t'),\n",
    "                              ('Nombre de cas positifs hebdo','@p'),\n",
    "                              ('Taux positivité','@rate')])\n",
    "\n",
    "#Create color bar. \n",
    "color_bar = ColorBar(color_mapper=color_mapper, label_standoff=8,width = 500, height = 20,\n",
    "                     border_line_color=None,location = (0,0), orientation = 'horizontal')#, major_label_overrides = tick_labels)\n",
    "\n",
    "\n",
    "#Create figure object.\n",
    "p = figure(title = 'Taux de positivité intégré sur une semaine, au '+str(lastdate), plot_height = 800 , plot_width = 700, tools = [hover]) # toolbar_location = None,\n",
    "p.xgrid.grid_line_color = None\n",
    "p.ygrid.grid_line_color = None\n",
    "\n",
    "#Add patch renderer to figure. \n",
    "p.patches('xs','ys', source = geosource,fill_color = {'field' :'rate', 'transform' : color_mapper}, line_color = 'black', line_width = 0.25, fill_alpha = 1)\n",
    "\n",
    "p.add_layout(color_bar, 'below')\n",
    "\n",
    "# Make a column layout of widgetbox(slider) and plot, and add it to the current document\n",
    "layout = column(p)#,widgetbox(slider))\n",
    "#curdoc().add_root(layout)\n",
    "\n",
    "#Display plot inline in Jupyter notebook\n",
    "output_notebook()\n",
    "#output_file(\"pos_reg_20200612.html\")\n",
    "\n",
    "#Display plot\n",
    "show(layout)"
   ]
  },
  {
   "cell_type": "code",
   "execution_count": null,
   "metadata": {},
   "outputs": [],
   "source": []
  }
 ],
 "metadata": {
  "kernelspec": {
   "display_name": "Python 3",
   "language": "python",
   "name": "python3"
  },
  "language_info": {
   "codemirror_mode": {
    "name": "ipython",
    "version": 3
   },
   "file_extension": ".py",
   "mimetype": "text/x-python",
   "name": "python",
   "nbconvert_exporter": "python",
   "pygments_lexer": "ipython3",
   "version": "3.8.2"
  }
 },
 "nbformat": 4,
 "nbformat_minor": 2
}
